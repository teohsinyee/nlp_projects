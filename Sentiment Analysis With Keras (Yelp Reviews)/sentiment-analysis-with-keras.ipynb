{
 "cells": [
  {
   "cell_type": "markdown",
   "id": "482a117a",
   "metadata": {
    "papermill": {
     "duration": 0.01953,
     "end_time": "2021-11-09T06:19:09.131231",
     "exception": false,
     "start_time": "2021-11-09T06:19:09.111701",
     "status": "completed"
    },
    "tags": []
   },
   "source": [
    "**Comparing a bidirectional LSTM to RNN for the task of sentiment analysis, both models built with Keras.**"
   ]
  },
  {
   "cell_type": "markdown",
   "id": "130715b4",
   "metadata": {
    "papermill": {
     "duration": 0.016011,
     "end_time": "2021-11-09T06:19:09.164789",
     "exception": false,
     "start_time": "2021-11-09T06:19:09.148778",
     "status": "completed"
    },
    "tags": []
   },
   "source": [
    "**Installations**"
   ]
  },
  {
   "cell_type": "code",
   "execution_count": 1,
   "id": "441e005c",
   "metadata": {
    "execution": {
     "iopub.execute_input": "2021-11-09T06:19:09.201417Z",
     "iopub.status.busy": "2021-11-09T06:19:09.200386Z",
     "iopub.status.idle": "2021-11-09T06:19:09.203786Z",
     "shell.execute_reply": "2021-11-09T06:19:09.204327Z",
     "shell.execute_reply.started": "2021-11-08T20:46:45.197260Z"
    },
    "papermill": {
     "duration": 0.023549,
     "end_time": "2021-11-09T06:19:09.204622",
     "exception": false,
     "start_time": "2021-11-09T06:19:09.181073",
     "status": "completed"
    },
    "tags": []
   },
   "outputs": [],
   "source": [
    "#pip install pyspellchecker"
   ]
  },
  {
   "cell_type": "code",
   "execution_count": null,
   "id": "4ef515f8",
   "metadata": {
    "execution": {
     "iopub.execute_input": "2021-11-09T06:19:09.241313Z",
     "iopub.status.busy": "2021-11-09T06:19:09.240560Z",
     "iopub.status.idle": "2021-11-09T06:19:19.334048Z",
     "shell.execute_reply": "2021-11-09T06:19:19.333346Z",
     "shell.execute_reply.started": "2021-11-08T20:46:45.203477Z"
    },
    "papermill": {
     "duration": 10.113203,
     "end_time": "2021-11-09T06:19:19.334192",
     "exception": false,
     "start_time": "2021-11-09T06:19:09.220989",
     "status": "completed"
    },
    "tags": []
   },
   "outputs": [],
   "source": [
    "pip install openpyxl"
   ]
  },
  {
   "cell_type": "markdown",
   "id": "5ca1670c",
   "metadata": {
    "papermill": {
     "duration": 0.018962,
     "end_time": "2021-11-09T06:19:19.373061",
     "exception": false,
     "start_time": "2021-11-09T06:19:19.354099",
     "status": "completed"
    },
    "tags": []
   },
   "source": [
    "**Imports**"
   ]
  },
  {
   "cell_type": "code",
   "execution_count": 8,
   "id": "6096a330",
   "metadata": {
    "_cell_guid": "b1076dfc-b9ad-4769-8c92-a6c4dae69d19",
    "_uuid": "8f2839f25d086af736a60e9eeb907d3b93b6e0e5",
    "execution": {
     "iopub.execute_input": "2021-11-09T06:19:19.420341Z",
     "iopub.status.busy": "2021-11-09T06:19:19.419516Z",
     "iopub.status.idle": "2021-11-09T06:19:26.650901Z",
     "shell.execute_reply": "2021-11-09T06:19:26.650296Z",
     "shell.execute_reply.started": "2021-11-08T20:46:54.526104Z"
    },
    "papermill": {
     "duration": 7.258908,
     "end_time": "2021-11-09T06:19:26.651039",
     "exception": false,
     "start_time": "2021-11-09T06:19:19.392131",
     "status": "completed"
    },
    "tags": []
   },
   "outputs": [],
   "source": [
    "import numpy as np # linear algebra\n",
    "import pandas as pd # data processing\n",
    "#import matplotlib.pyplot as plt #plotting\n",
    "\n",
    "#nlp toolkit\n",
    "import nltk\n",
    "from nltk.corpus import stopwords\n",
    "from nltk.stem import WordNetLemmatizer\n",
    "# from spellchecker import SpellChecker\n",
    "from string import punctuation\n",
    "\n",
    "#dataset splitting\n",
    "from sklearn.model_selection import train_test_split\n",
    "\n",
    "#nn using keras\n",
    "from keras.preprocessing.text import Tokenizer\n",
    "from keras_preprocessing.sequence import pad_sequences\n",
    "from keras.models import Sequential\n",
    "from keras import layers"
   ]
  },
  {
   "cell_type": "markdown",
   "id": "d5753b8c",
   "metadata": {
    "papermill": {
     "duration": 0.018592,
     "end_time": "2021-11-09T06:19:26.689140",
     "exception": false,
     "start_time": "2021-11-09T06:19:26.670548",
     "status": "completed"
    },
    "tags": []
   },
   "source": [
    "**Functions**"
   ]
  },
  {
   "cell_type": "markdown",
   "id": "c66836eb",
   "metadata": {
    "papermill": {
     "duration": 0.018995,
     "end_time": "2021-11-09T06:19:26.727596",
     "exception": false,
     "start_time": "2021-11-09T06:19:26.708601",
     "status": "completed"
    },
    "tags": []
   },
   "source": [
    "Data loading functions"
   ]
  },
  {
   "cell_type": "code",
   "execution_count": 9,
   "id": "9ea6d59f",
   "metadata": {
    "execution": {
     "iopub.execute_input": "2021-11-09T06:19:26.772960Z",
     "iopub.status.busy": "2021-11-09T06:19:26.772298Z",
     "iopub.status.idle": "2021-11-09T06:19:26.775230Z",
     "shell.execute_reply": "2021-11-09T06:19:26.774717Z",
     "shell.execute_reply.started": "2021-11-08T20:47:01.423101Z"
    },
    "papermill": {
     "duration": 0.028718,
     "end_time": "2021-11-09T06:19:26.775362",
     "exception": false,
     "start_time": "2021-11-09T06:19:26.746644",
     "status": "completed"
    },
    "tags": []
   },
   "outputs": [],
   "source": [
    "def load_data():\n",
    "    \"\"\"\n",
    "    loads original dataset and returns dataframe of relevant columns\n",
    "    \"\"\"\n",
    "    path = \"../Sentiment Analysis With Keras (Yelp Reviews)/\"\n",
    "    filename = \"dataset.xlsx\"\n",
    "    df = pd.read_excel(path+filename, usecols=['Rating','Review','Spam(1) and Not Spam(0)','Sentiment'])\n",
    "        \n",
    "    df.drop(df.loc[(df.Sentiment == 'Neutral') | \\\n",
    "                   ((df.Sentiment == 'Positive') & (df.Rating < 4)) | \\\n",
    "                   ((df.Sentiment == 'Negative') & (df.Rating > 2)) | \\\n",
    "                   (df['Spam(1) and Not Spam(0)'] == 1)].index, inplace=True)\n",
    "    return df"
   ]
  },
  {
   "cell_type": "code",
   "execution_count": 10,
   "id": "bac1ab88",
   "metadata": {
    "execution": {
     "iopub.execute_input": "2021-11-09T06:19:26.819261Z",
     "iopub.status.busy": "2021-11-09T06:19:26.818591Z",
     "iopub.status.idle": "2021-11-09T06:19:26.820214Z",
     "shell.execute_reply": "2021-11-09T06:19:26.820765Z",
     "shell.execute_reply.started": "2021-11-08T20:47:01.431020Z"
    },
    "papermill": {
     "duration": 0.026593,
     "end_time": "2021-11-09T06:19:26.820942",
     "exception": false,
     "start_time": "2021-11-09T06:19:26.794349",
     "status": "completed"
    },
    "tags": []
   },
   "outputs": [],
   "source": [
    "def create_even_dataset(df, col='Sentiment'):\n",
    "    \"\"\"\n",
    "    Returns even dataset, according to specified column, defaul = sentiment\n",
    "    \"\"\"\n",
    "    col_count = df[col].value_counts()\n",
    "    lower_col_size = min(col_count)\n",
    "    lower_col = col_count.index[col_count==lower_col_size][0]\n",
    "    df_reduced_col = df.loc[df[col] != lower_col].sample(n=lower_col_size)\n",
    "    dataset = pd.concat([df.loc[df[col] == lower_col], df_reduced_col], axis = 0)  \n",
    "    \n",
    "    return dataset"
   ]
  },
  {
   "cell_type": "markdown",
   "id": "53ea242b",
   "metadata": {
    "papermill": {
     "duration": 0.01865,
     "end_time": "2021-11-09T06:19:26.858626",
     "exception": false,
     "start_time": "2021-11-09T06:19:26.839976",
     "status": "completed"
    },
    "tags": []
   },
   "source": [
    "Preprocessing functions"
   ]
  },
  {
   "cell_type": "code",
   "execution_count": 11,
   "id": "2fb2238b",
   "metadata": {
    "execution": {
     "iopub.execute_input": "2021-11-09T06:19:26.900101Z",
     "iopub.status.busy": "2021-11-09T06:19:26.899419Z",
     "iopub.status.idle": "2021-11-09T06:19:26.910121Z",
     "shell.execute_reply": "2021-11-09T06:19:26.909514Z",
     "shell.execute_reply.started": "2021-11-08T20:47:01.445832Z"
    },
    "papermill": {
     "duration": 0.032549,
     "end_time": "2021-11-09T06:19:26.910256",
     "exception": false,
     "start_time": "2021-11-09T06:19:26.877707",
     "status": "completed"
    },
    "tags": []
   },
   "outputs": [],
   "source": [
    "def remove_stopwords(text):\n",
    "    \"\"\"\n",
    "    Removes all the stop words like \"is,the,a, etc.\"\n",
    "    \"\"\"\n",
    "    stop_words = stopwords.words('english') \n",
    "    output = []\n",
    "    for sentence in text:\n",
    "        output.append(' '.join([w for w in nltk.word_tokenize(sentence) if not w in stop_words]))\n",
    "    return output\n",
    "\n",
    "def lemmatize(text):\n",
    "    \"\"\"\n",
    "    Applies lemmatization\n",
    "    \"\"\"\n",
    "    wordnet_lemmatizer = WordNetLemmatizer()\n",
    "    lemmatized_text = []\n",
    "    \n",
    "    for sentence in text:\n",
    "        lemmatized_word = [wordnet_lemmatizer.lemmatize(w) for w in nltk.word_tokenize(sentence)]\n",
    "        lemmatized_text.append(\" \".join(lemmatized_word))\n",
    "        \n",
    "    return lemmatized_text\n",
    "\n",
    "def remove_numbers(text):\n",
    "    \"\"\"\n",
    "    Removes all numbers\n",
    "    \"\"\" \n",
    "    output = []\n",
    "    for sentence in text:\n",
    "        output.append(''.join(c for c in sentence if not c.isdigit()))\n",
    "    return output\n",
    "    \n",
    "def remove_punct(text):\n",
    "    \"\"\"\n",
    "    Removes all punctuation characters: !\"#$%&'()*+,-./:;<=>?@[\\]^_`{|}~\n",
    "    \"\"\"\n",
    "    output = []\n",
    "    for sentence in text:\n",
    "        output.append(''.join(c for c in sentence if c not in punctuation))\n",
    "    return output\n",
    "\n",
    "def remove_short_words(text):\n",
    "    \"\"\"\n",
    "    Removes words of length <= 1\n",
    "    \"\"\"\n",
    "    output = []\n",
    "    for sentence in text:\n",
    "        output.append(' '.join([w for w in nltk.word_tokenize(sentence) if len(w)<2]))\n",
    "    return output"
   ]
  },
  {
   "cell_type": "code",
   "execution_count": 17,
   "id": "6827612a",
   "metadata": {
    "execution": {
     "iopub.execute_input": "2021-11-09T06:19:26.955489Z",
     "iopub.status.busy": "2021-11-09T06:19:26.954898Z",
     "iopub.status.idle": "2021-11-09T06:19:26.957681Z",
     "shell.execute_reply": "2021-11-09T06:19:26.957237Z",
     "shell.execute_reply.started": "2021-11-08T20:47:01.458664Z"
    },
    "papermill": {
     "duration": 0.028505,
     "end_time": "2021-11-09T06:19:26.957813",
     "exception": false,
     "start_time": "2021-11-09T06:19:26.929308",
     "status": "completed"
    },
    "tags": []
   },
   "outputs": [],
   "source": [
    "def preprocess(dataset):\n",
    "    \"\"\"\n",
    "    Apply standard text preprocessing on reviews:\n",
    "        1. lower case\n",
    "        2. Sentence tokenizing\n",
    "        3. Remove stopwords\n",
    "        4. Spell correction\n",
    "        5. Lemmatization\n",
    "        6. Remove numbers\n",
    "        7. Remove punctuation and special characters\n",
    "        8. Remove all words of length <= 1 character\n",
    "        \n",
    "    Convert text to sequences.\n",
    "    \"\"\"\n",
    "    dataset = dataset.apply(lambda x: x.lower())\n",
    "    dataset = dataset.apply(lambda x: sent_tokenize(x))\n",
    "    dataset = dataset.apply(lambda x: remove_stopwords(x))\n",
    "    #dataset = dataset.apply(lambda x: (correct_spelling(x)))\n",
    "    dataset = dataset.apply(lambda x: lemmatize(x))\n",
    "    dataset = dataset.apply(lambda x: remove_numbers(x))\n",
    "    dataset = dataset.apply(lambda x: remove_punct(x))\n",
    "    dataset = dataset.apply(lambda x: remove_short_words(x))\n",
    "    \n",
    "    max_words = 5000\n",
    "\n",
    "    tokenizer = Tokenizer(num_words=max_words)\n",
    "    tokenizer.fit_on_texts(dataset)\n",
    "    sequences = tokenizer.texts_to_sequences(dataset)\n",
    "    dataset = pad_sequences(sequences)\n",
    "    \n",
    "    return dataset"
   ]
  },
  {
   "cell_type": "markdown",
   "id": "ceff0706",
   "metadata": {
    "papermill": {
     "duration": 0.019979,
     "end_time": "2021-11-09T06:19:26.996920",
     "exception": false,
     "start_time": "2021-11-09T06:19:26.976941",
     "status": "completed"
    },
    "tags": []
   },
   "source": [
    "Create networks with keras."
   ]
  },
  {
   "cell_type": "code",
   "execution_count": 8,
   "id": "c17a6077",
   "metadata": {
    "execution": {
     "iopub.execute_input": "2021-11-09T06:19:27.041375Z",
     "iopub.status.busy": "2021-11-09T06:19:27.040753Z",
     "iopub.status.idle": "2021-11-09T06:19:27.043085Z",
     "shell.execute_reply": "2021-11-09T06:19:27.042629Z",
     "shell.execute_reply.started": "2021-11-08T20:47:01.476260Z"
    },
    "papermill": {
     "duration": 0.027188,
     "end_time": "2021-11-09T06:19:27.043219",
     "exception": false,
     "start_time": "2021-11-09T06:19:27.016031",
     "status": "completed"
    },
    "tags": []
   },
   "outputs": [],
   "source": [
    "def build_RNN(max_words=2000,max_len=200):\n",
    "    \n",
    "    model = Sequential()\n",
    "    model.add(layers.Embedding(max_words, 64, input_length=max_len))\n",
    "    model.add(layers.SimpleRNN(32,dropout=0.6))\n",
    "    model.add(layers.Dense(2,activation='softmax'))\n",
    "    model.compile(optimizer='adam',loss='categorical_crossentropy', metrics=['accuracy'])\n",
    "\n",
    "    return model"
   ]
  },
  {
   "cell_type": "code",
   "execution_count": 9,
   "id": "7312a099",
   "metadata": {
    "execution": {
     "iopub.execute_input": "2021-11-09T06:19:27.085591Z",
     "iopub.status.busy": "2021-11-09T06:19:27.084962Z",
     "iopub.status.idle": "2021-11-09T06:19:27.089225Z",
     "shell.execute_reply": "2021-11-09T06:19:27.089657Z",
     "shell.execute_reply.started": "2021-11-08T20:47:01.492435Z"
    },
    "papermill": {
     "duration": 0.026748,
     "end_time": "2021-11-09T06:19:27.089832",
     "exception": false,
     "start_time": "2021-11-09T06:19:27.063084",
     "status": "completed"
    },
    "tags": []
   },
   "outputs": [],
   "source": [
    "def build_BID_LSTM(max_words=2000,max_len=200):\n",
    "    \n",
    "    model = Sequential()\n",
    "    model.add(layers.Embedding(max_words, 64, input_length=max_len))\n",
    "    model.add(layers.Bidirectional(layers.LSTM(32,dropout=0.6)))\n",
    "    model.add(layers.Dense(2,activation='softmax'))\n",
    "    model.compile(optimizer='adam',loss='categorical_crossentropy', metrics=['accuracy'])\n",
    "    \n",
    "    return model"
   ]
  },
  {
   "cell_type": "markdown",
   "id": "34b9985d",
   "metadata": {
    "papermill": {
     "duration": 0.019019,
     "end_time": "2021-11-09T06:19:27.127929",
     "exception": false,
     "start_time": "2021-11-09T06:19:27.108910",
     "status": "completed"
    },
    "tags": []
   },
   "source": [
    "Plot function."
   ]
  },
  {
   "cell_type": "code",
   "execution_count": 10,
   "id": "78fdc0b7",
   "metadata": {
    "execution": {
     "iopub.execute_input": "2021-11-09T06:19:27.171249Z",
     "iopub.status.busy": "2021-11-09T06:19:27.170274Z",
     "iopub.status.idle": "2021-11-09T06:19:27.178277Z",
     "shell.execute_reply": "2021-11-09T06:19:27.178831Z",
     "shell.execute_reply.started": "2021-11-08T20:47:01.503825Z"
    },
    "papermill": {
     "duration": 0.032019,
     "end_time": "2021-11-09T06:19:27.179010",
     "exception": false,
     "start_time": "2021-11-09T06:19:27.146991",
     "status": "completed"
    },
    "tags": []
   },
   "outputs": [],
   "source": [
    "def plot_result_comparison_2_models(history):\n",
    "    \"\"\"\n",
    "    Plot training and validation loss and accuracy for each model.\n",
    "    \"\"\"\n",
    "    fig = plt.figure(figsize = (20, 6))\n",
    "    plt.subplot(1, 2, 1)\n",
    "    plt.plot(history[0].history['accuracy'], label='RNN_Train Acc') #training list\n",
    "    plt.plot(history[0].history['val_accuracy'], label='RNN_Validation Acc') #validation list\n",
    "    plt.plot(history[1].history['accuracy'], label='BID-LSTM_Train Acc') #training list\n",
    "    plt.plot(history[1].history['val_accuracy'], label='BID-LSTM_Validation Acc') #validation list\n",
    "    plt.title(\"Accuracy\")\n",
    "    plt.legend()\n",
    "    plt.grid()\n",
    "    \n",
    "    plt.subplot(1, 2, 2)\n",
    "    plt.plot(history[0].history['loss'], label='RNN_Train loss') #training loss\n",
    "    plt.plot(history[0].history['val_loss'], label='RNN_Validation loss') #validation loss\n",
    "    plt.plot(history[1].history['loss'], label='BID-LSTM_Train loss') #training loss\n",
    "    plt.plot(history[1].history['val_loss'], label='BID-LSTM_Validation loss') #validation loss\n",
    "    plt.title(\"Loss\")\n",
    "    plt.legend()\n",
    "    plt.grid()\n",
    "    plt.show()"
   ]
  },
  {
   "cell_type": "markdown",
   "id": "940db5cb",
   "metadata": {
    "papermill": {
     "duration": 0.019154,
     "end_time": "2021-11-09T06:19:27.217131",
     "exception": false,
     "start_time": "2021-11-09T06:19:27.197977",
     "status": "completed"
    },
    "tags": []
   },
   "source": [
    "**Main**"
   ]
  },
  {
   "cell_type": "markdown",
   "id": "cf8fdf60",
   "metadata": {
    "papermill": {
     "duration": 0.019117,
     "end_time": "2021-11-09T06:19:27.255233",
     "exception": false,
     "start_time": "2021-11-09T06:19:27.236116",
     "status": "completed"
    },
    "tags": []
   },
   "source": [
    "First load data set, then convert to an even set of input samples of each type (the same amount of positive and negative reviews)."
   ]
  },
  {
   "cell_type": "code",
   "execution_count": 14,
   "id": "0da59d0e",
   "metadata": {
    "execution": {
     "iopub.execute_input": "2021-11-09T06:19:27.299425Z",
     "iopub.status.busy": "2021-11-09T06:19:27.298723Z",
     "iopub.status.idle": "2021-11-09T06:20:24.355671Z",
     "shell.execute_reply": "2021-11-09T06:20:24.355080Z",
     "shell.execute_reply.started": "2021-11-08T20:47:01.515298Z"
    },
    "papermill": {
     "duration": 57.081202,
     "end_time": "2021-11-09T06:20:24.355839",
     "exception": false,
     "start_time": "2021-11-09T06:19:27.274637",
     "status": "completed"
    },
    "tags": []
   },
   "outputs": [],
   "source": [
    "df = load_data()\n",
    "dataset = create_even_dataset(df)"
   ]
  },
  {
   "cell_type": "markdown",
   "id": "965c9314",
   "metadata": {
    "papermill": {
     "duration": 0.018841,
     "end_time": "2021-11-09T06:20:24.394627",
     "exception": false,
     "start_time": "2021-11-09T06:20:24.375786",
     "status": "completed"
    },
    "tags": []
   },
   "source": [
    "Create binary label vector (y).\n",
    "Split dataset into train (90%) and test set (10%), preserving class ratios.\n",
    "Preprocess train and test inputs, seperately."
   ]
  },
  {
   "cell_type": "code",
   "execution_count": 19,
   "id": "8203f858",
   "metadata": {},
   "outputs": [
    {
     "name": "stdout",
     "output_type": "stream",
     "text": [
      "showing info https://raw.githubusercontent.com/nltk/nltk_data/gh-pages/index.xml\n"
     ]
    },
    {
     "data": {
      "text/plain": [
       "True"
      ]
     },
     "execution_count": 19,
     "metadata": {},
     "output_type": "execute_result"
    }
   ],
   "source": [
    "import nltk\n",
    "nltk.download()"
   ]
  },
  {
   "cell_type": "code",
   "execution_count": 21,
   "id": "ad83f956",
   "metadata": {
    "execution": {
     "iopub.execute_input": "2021-11-09T06:20:24.445377Z",
     "iopub.status.busy": "2021-11-09T06:20:24.444737Z",
     "iopub.status.idle": "2021-11-09T06:25:40.849077Z",
     "shell.execute_reply": "2021-11-09T06:25:40.848453Z",
     "shell.execute_reply.started": "2021-11-08T20:47:59.800788Z"
    },
    "papermill": {
     "duration": 316.435509,
     "end_time": "2021-11-09T06:25:40.849223",
     "exception": false,
     "start_time": "2021-11-09T06:20:24.413714",
     "status": "completed"
    },
    "tags": []
   },
   "outputs": [
    {
     "ename": "LookupError",
     "evalue": "\n**********************************************************************\n  Resource \u001b[93mpunkt\u001b[0m not found.\n  Please use the NLTK Downloader to obtain the resource:\n\n  \u001b[31m>>> import nltk\n  >>> nltk.download('punkt')\n  \u001b[0m\n  For more information see: https://www.nltk.org/data.html\n\n  Attempted to load \u001b[93mtokenizers/punkt/english.pickle\u001b[0m\n\n  Searched in:\n    - 'C:\\\\Users\\\\sin-yee.teoh/nltk_data'\n    - 'c:\\\\Users\\\\sin-yee.teoh\\\\AppData\\\\Local\\\\Programs\\\\Python\\\\Python310\\\\nltk_data'\n    - 'c:\\\\Users\\\\sin-yee.teoh\\\\AppData\\\\Local\\\\Programs\\\\Python\\\\Python310\\\\share\\\\nltk_data'\n    - 'c:\\\\Users\\\\sin-yee.teoh\\\\AppData\\\\Local\\\\Programs\\\\Python\\\\Python310\\\\lib\\\\nltk_data'\n    - 'C:\\\\Users\\\\sin-yee.teoh\\\\AppData\\\\Roaming\\\\nltk_data'\n    - 'C:\\\\nltk_data'\n    - 'D:\\\\nltk_data'\n    - 'E:\\\\nltk_data'\n    - ''\n**********************************************************************\n",
     "output_type": "error",
     "traceback": [
      "\u001b[1;31m---------------------------------------------------------------------------\u001b[0m",
      "\u001b[1;31mLookupError\u001b[0m                               Traceback (most recent call last)",
      "\u001b[1;32md:\\nlp_projects\\Sentiment Analysis With Keras (Yelp Reviews)\\sentiment-analysis-with-keras.ipynb Cell 24\u001b[0m in \u001b[0;36m<cell line: 9>\u001b[1;34m()\u001b[0m\n\u001b[0;32m      <a href='vscode-notebook-cell:/d%3A/nlp_projects/Sentiment%20Analysis%20With%20Keras%20%28Yelp%20Reviews%29/sentiment-analysis-with-keras.ipynb#X31sZmlsZQ%3D%3D?line=0'>1</a>\u001b[0m y \u001b[39m=\u001b[39m pd\u001b[39m.\u001b[39mget_dummies(dataset[\u001b[39m'\u001b[39m\u001b[39mSentiment\u001b[39m\u001b[39m'\u001b[39m])\u001b[39m.\u001b[39mvalues\n\u001b[0;32m      <a href='vscode-notebook-cell:/d%3A/nlp_projects/Sentiment%20Analysis%20With%20Keras%20%28Yelp%20Reviews%29/sentiment-analysis-with-keras.ipynb#X31sZmlsZQ%3D%3D?line=2'>3</a>\u001b[0m x_train, x_test, y_train, y_test \u001b[39m=\u001b[39m train_test_split(\n\u001b[0;32m      <a href='vscode-notebook-cell:/d%3A/nlp_projects/Sentiment%20Analysis%20With%20Keras%20%28Yelp%20Reviews%29/sentiment-analysis-with-keras.ipynb#X31sZmlsZQ%3D%3D?line=3'>4</a>\u001b[0m     dataset\u001b[39m.\u001b[39mReview,\n\u001b[0;32m      <a href='vscode-notebook-cell:/d%3A/nlp_projects/Sentiment%20Analysis%20With%20Keras%20%28Yelp%20Reviews%29/sentiment-analysis-with-keras.ipynb#X31sZmlsZQ%3D%3D?line=4'>5</a>\u001b[0m     y,\n\u001b[0;32m      <a href='vscode-notebook-cell:/d%3A/nlp_projects/Sentiment%20Analysis%20With%20Keras%20%28Yelp%20Reviews%29/sentiment-analysis-with-keras.ipynb#X31sZmlsZQ%3D%3D?line=5'>6</a>\u001b[0m     test_size\u001b[39m=\u001b[39m\u001b[39m0.1\u001b[39m,\n\u001b[0;32m      <a href='vscode-notebook-cell:/d%3A/nlp_projects/Sentiment%20Analysis%20With%20Keras%20%28Yelp%20Reviews%29/sentiment-analysis-with-keras.ipynb#X31sZmlsZQ%3D%3D?line=6'>7</a>\u001b[0m     stratify \u001b[39m=\u001b[39m y)\n\u001b[1;32m----> <a href='vscode-notebook-cell:/d%3A/nlp_projects/Sentiment%20Analysis%20With%20Keras%20%28Yelp%20Reviews%29/sentiment-analysis-with-keras.ipynb#X31sZmlsZQ%3D%3D?line=8'>9</a>\u001b[0m x_train \u001b[39m=\u001b[39m preprocess(x_train)\n\u001b[0;32m     <a href='vscode-notebook-cell:/d%3A/nlp_projects/Sentiment%20Analysis%20With%20Keras%20%28Yelp%20Reviews%29/sentiment-analysis-with-keras.ipynb#X31sZmlsZQ%3D%3D?line=9'>10</a>\u001b[0m x_test \u001b[39m=\u001b[39m preprocess(x_test)\n",
      "\u001b[1;32md:\\nlp_projects\\Sentiment Analysis With Keras (Yelp Reviews)\\sentiment-analysis-with-keras.ipynb Cell 24\u001b[0m in \u001b[0;36mpreprocess\u001b[1;34m(dataset)\u001b[0m\n\u001b[0;32m      <a href='vscode-notebook-cell:/d%3A/nlp_projects/Sentiment%20Analysis%20With%20Keras%20%28Yelp%20Reviews%29/sentiment-analysis-with-keras.ipynb#X31sZmlsZQ%3D%3D?line=1'>2</a>\u001b[0m \u001b[39m\"\"\"\u001b[39;00m\n\u001b[0;32m      <a href='vscode-notebook-cell:/d%3A/nlp_projects/Sentiment%20Analysis%20With%20Keras%20%28Yelp%20Reviews%29/sentiment-analysis-with-keras.ipynb#X31sZmlsZQ%3D%3D?line=2'>3</a>\u001b[0m \u001b[39mApply standard text preprocessing on reviews:\u001b[39;00m\n\u001b[0;32m      <a href='vscode-notebook-cell:/d%3A/nlp_projects/Sentiment%20Analysis%20With%20Keras%20%28Yelp%20Reviews%29/sentiment-analysis-with-keras.ipynb#X31sZmlsZQ%3D%3D?line=3'>4</a>\u001b[0m \u001b[39m    1. lower case\u001b[39;00m\n\u001b[1;32m   (...)\u001b[0m\n\u001b[0;32m     <a href='vscode-notebook-cell:/d%3A/nlp_projects/Sentiment%20Analysis%20With%20Keras%20%28Yelp%20Reviews%29/sentiment-analysis-with-keras.ipynb#X31sZmlsZQ%3D%3D?line=12'>13</a>\u001b[0m \u001b[39mConvert text to sequences.\u001b[39;00m\n\u001b[0;32m     <a href='vscode-notebook-cell:/d%3A/nlp_projects/Sentiment%20Analysis%20With%20Keras%20%28Yelp%20Reviews%29/sentiment-analysis-with-keras.ipynb#X31sZmlsZQ%3D%3D?line=13'>14</a>\u001b[0m \u001b[39m\"\"\"\u001b[39;00m\n\u001b[0;32m     <a href='vscode-notebook-cell:/d%3A/nlp_projects/Sentiment%20Analysis%20With%20Keras%20%28Yelp%20Reviews%29/sentiment-analysis-with-keras.ipynb#X31sZmlsZQ%3D%3D?line=14'>15</a>\u001b[0m dataset \u001b[39m=\u001b[39m dataset\u001b[39m.\u001b[39mapply(\u001b[39mlambda\u001b[39;00m x: x\u001b[39m.\u001b[39mlower())\n\u001b[1;32m---> <a href='vscode-notebook-cell:/d%3A/nlp_projects/Sentiment%20Analysis%20With%20Keras%20%28Yelp%20Reviews%29/sentiment-analysis-with-keras.ipynb#X31sZmlsZQ%3D%3D?line=15'>16</a>\u001b[0m dataset \u001b[39m=\u001b[39m dataset\u001b[39m.\u001b[39;49mapply(\u001b[39mlambda\u001b[39;49;00m x: sent_tokenize(x))\n\u001b[0;32m     <a href='vscode-notebook-cell:/d%3A/nlp_projects/Sentiment%20Analysis%20With%20Keras%20%28Yelp%20Reviews%29/sentiment-analysis-with-keras.ipynb#X31sZmlsZQ%3D%3D?line=16'>17</a>\u001b[0m dataset \u001b[39m=\u001b[39m dataset\u001b[39m.\u001b[39mapply(\u001b[39mlambda\u001b[39;00m x: remove_stopwords(x))\n\u001b[0;32m     <a href='vscode-notebook-cell:/d%3A/nlp_projects/Sentiment%20Analysis%20With%20Keras%20%28Yelp%20Reviews%29/sentiment-analysis-with-keras.ipynb#X31sZmlsZQ%3D%3D?line=17'>18</a>\u001b[0m \u001b[39m#dataset = dataset.apply(lambda x: (correct_spelling(x)))\u001b[39;00m\n",
      "File \u001b[1;32mc:\\Users\\sin-yee.teoh\\AppData\\Local\\Programs\\Python\\Python310\\lib\\site-packages\\pandas\\core\\series.py:4357\u001b[0m, in \u001b[0;36mSeries.apply\u001b[1;34m(self, func, convert_dtype, args, **kwargs)\u001b[0m\n\u001b[0;32m   4247\u001b[0m \u001b[39mdef\u001b[39;00m \u001b[39mapply\u001b[39m(\n\u001b[0;32m   4248\u001b[0m     \u001b[39mself\u001b[39m,\n\u001b[0;32m   4249\u001b[0m     func: AggFuncType,\n\u001b[1;32m   (...)\u001b[0m\n\u001b[0;32m   4252\u001b[0m     \u001b[39m*\u001b[39m\u001b[39m*\u001b[39mkwargs,\n\u001b[0;32m   4253\u001b[0m ) \u001b[39m-\u001b[39m\u001b[39m>\u001b[39m FrameOrSeriesUnion:\n\u001b[0;32m   4254\u001b[0m     \u001b[39m\"\"\"\u001b[39;00m\n\u001b[0;32m   4255\u001b[0m \u001b[39m    Invoke function on values of Series.\u001b[39;00m\n\u001b[0;32m   4256\u001b[0m \n\u001b[1;32m   (...)\u001b[0m\n\u001b[0;32m   4355\u001b[0m \u001b[39m    dtype: float64\u001b[39;00m\n\u001b[0;32m   4356\u001b[0m \u001b[39m    \"\"\"\u001b[39;00m\n\u001b[1;32m-> 4357\u001b[0m     \u001b[39mreturn\u001b[39;00m SeriesApply(\u001b[39mself\u001b[39;49m, func, convert_dtype, args, kwargs)\u001b[39m.\u001b[39;49mapply()\n",
      "File \u001b[1;32mc:\\Users\\sin-yee.teoh\\AppData\\Local\\Programs\\Python\\Python310\\lib\\site-packages\\pandas\\core\\apply.py:1043\u001b[0m, in \u001b[0;36mSeriesApply.apply\u001b[1;34m(self)\u001b[0m\n\u001b[0;32m   1039\u001b[0m \u001b[39mif\u001b[39;00m \u001b[39misinstance\u001b[39m(\u001b[39mself\u001b[39m\u001b[39m.\u001b[39mf, \u001b[39mstr\u001b[39m):\n\u001b[0;32m   1040\u001b[0m     \u001b[39m# if we are a string, try to dispatch\u001b[39;00m\n\u001b[0;32m   1041\u001b[0m     \u001b[39mreturn\u001b[39;00m \u001b[39mself\u001b[39m\u001b[39m.\u001b[39mapply_str()\n\u001b[1;32m-> 1043\u001b[0m \u001b[39mreturn\u001b[39;00m \u001b[39mself\u001b[39;49m\u001b[39m.\u001b[39;49mapply_standard()\n",
      "File \u001b[1;32mc:\\Users\\sin-yee.teoh\\AppData\\Local\\Programs\\Python\\Python310\\lib\\site-packages\\pandas\\core\\apply.py:1098\u001b[0m, in \u001b[0;36mSeriesApply.apply_standard\u001b[1;34m(self)\u001b[0m\n\u001b[0;32m   1092\u001b[0m         values \u001b[39m=\u001b[39m obj\u001b[39m.\u001b[39mastype(\u001b[39mobject\u001b[39m)\u001b[39m.\u001b[39m_values\n\u001b[0;32m   1093\u001b[0m         \u001b[39m# error: Argument 2 to \"map_infer\" has incompatible type\u001b[39;00m\n\u001b[0;32m   1094\u001b[0m         \u001b[39m# \"Union[Callable[..., Any], str, List[Union[Callable[..., Any], str]],\u001b[39;00m\n\u001b[0;32m   1095\u001b[0m         \u001b[39m# Dict[Hashable, Union[Union[Callable[..., Any], str],\u001b[39;00m\n\u001b[0;32m   1096\u001b[0m         \u001b[39m# List[Union[Callable[..., Any], str]]]]]\"; expected\u001b[39;00m\n\u001b[0;32m   1097\u001b[0m         \u001b[39m# \"Callable[[Any], Any]\"\u001b[39;00m\n\u001b[1;32m-> 1098\u001b[0m         mapped \u001b[39m=\u001b[39m lib\u001b[39m.\u001b[39;49mmap_infer(\n\u001b[0;32m   1099\u001b[0m             values,\n\u001b[0;32m   1100\u001b[0m             f,  \u001b[39m# type: ignore[arg-type]\u001b[39;49;00m\n\u001b[0;32m   1101\u001b[0m             convert\u001b[39m=\u001b[39;49m\u001b[39mself\u001b[39;49m\u001b[39m.\u001b[39;49mconvert_dtype,\n\u001b[0;32m   1102\u001b[0m         )\n\u001b[0;32m   1104\u001b[0m \u001b[39mif\u001b[39;00m \u001b[39mlen\u001b[39m(mapped) \u001b[39mand\u001b[39;00m \u001b[39misinstance\u001b[39m(mapped[\u001b[39m0\u001b[39m], ABCSeries):\n\u001b[0;32m   1105\u001b[0m     \u001b[39m# GH 25959 use pd.array instead of tolist\u001b[39;00m\n\u001b[0;32m   1106\u001b[0m     \u001b[39m# so extension arrays can be used\u001b[39;00m\n\u001b[0;32m   1107\u001b[0m     \u001b[39mreturn\u001b[39;00m obj\u001b[39m.\u001b[39m_constructor_expanddim(pd_array(mapped), index\u001b[39m=\u001b[39mobj\u001b[39m.\u001b[39mindex)\n",
      "File \u001b[1;32mc:\\Users\\sin-yee.teoh\\AppData\\Local\\Programs\\Python\\Python310\\lib\\site-packages\\pandas\\_libs\\lib.pyx:2859\u001b[0m, in \u001b[0;36mpandas._libs.lib.map_infer\u001b[1;34m()\u001b[0m\n",
      "\u001b[1;32md:\\nlp_projects\\Sentiment Analysis With Keras (Yelp Reviews)\\sentiment-analysis-with-keras.ipynb Cell 24\u001b[0m in \u001b[0;36mpreprocess.<locals>.<lambda>\u001b[1;34m(x)\u001b[0m\n\u001b[0;32m      <a href='vscode-notebook-cell:/d%3A/nlp_projects/Sentiment%20Analysis%20With%20Keras%20%28Yelp%20Reviews%29/sentiment-analysis-with-keras.ipynb#X31sZmlsZQ%3D%3D?line=1'>2</a>\u001b[0m \u001b[39m\"\"\"\u001b[39;00m\n\u001b[0;32m      <a href='vscode-notebook-cell:/d%3A/nlp_projects/Sentiment%20Analysis%20With%20Keras%20%28Yelp%20Reviews%29/sentiment-analysis-with-keras.ipynb#X31sZmlsZQ%3D%3D?line=2'>3</a>\u001b[0m \u001b[39mApply standard text preprocessing on reviews:\u001b[39;00m\n\u001b[0;32m      <a href='vscode-notebook-cell:/d%3A/nlp_projects/Sentiment%20Analysis%20With%20Keras%20%28Yelp%20Reviews%29/sentiment-analysis-with-keras.ipynb#X31sZmlsZQ%3D%3D?line=3'>4</a>\u001b[0m \u001b[39m    1. lower case\u001b[39;00m\n\u001b[1;32m   (...)\u001b[0m\n\u001b[0;32m     <a href='vscode-notebook-cell:/d%3A/nlp_projects/Sentiment%20Analysis%20With%20Keras%20%28Yelp%20Reviews%29/sentiment-analysis-with-keras.ipynb#X31sZmlsZQ%3D%3D?line=12'>13</a>\u001b[0m \u001b[39mConvert text to sequences.\u001b[39;00m\n\u001b[0;32m     <a href='vscode-notebook-cell:/d%3A/nlp_projects/Sentiment%20Analysis%20With%20Keras%20%28Yelp%20Reviews%29/sentiment-analysis-with-keras.ipynb#X31sZmlsZQ%3D%3D?line=13'>14</a>\u001b[0m \u001b[39m\"\"\"\u001b[39;00m\n\u001b[0;32m     <a href='vscode-notebook-cell:/d%3A/nlp_projects/Sentiment%20Analysis%20With%20Keras%20%28Yelp%20Reviews%29/sentiment-analysis-with-keras.ipynb#X31sZmlsZQ%3D%3D?line=14'>15</a>\u001b[0m dataset \u001b[39m=\u001b[39m dataset\u001b[39m.\u001b[39mapply(\u001b[39mlambda\u001b[39;00m x: x\u001b[39m.\u001b[39mlower())\n\u001b[1;32m---> <a href='vscode-notebook-cell:/d%3A/nlp_projects/Sentiment%20Analysis%20With%20Keras%20%28Yelp%20Reviews%29/sentiment-analysis-with-keras.ipynb#X31sZmlsZQ%3D%3D?line=15'>16</a>\u001b[0m dataset \u001b[39m=\u001b[39m dataset\u001b[39m.\u001b[39mapply(\u001b[39mlambda\u001b[39;00m x: sent_tokenize(x))\n\u001b[0;32m     <a href='vscode-notebook-cell:/d%3A/nlp_projects/Sentiment%20Analysis%20With%20Keras%20%28Yelp%20Reviews%29/sentiment-analysis-with-keras.ipynb#X31sZmlsZQ%3D%3D?line=16'>17</a>\u001b[0m dataset \u001b[39m=\u001b[39m dataset\u001b[39m.\u001b[39mapply(\u001b[39mlambda\u001b[39;00m x: remove_stopwords(x))\n\u001b[0;32m     <a href='vscode-notebook-cell:/d%3A/nlp_projects/Sentiment%20Analysis%20With%20Keras%20%28Yelp%20Reviews%29/sentiment-analysis-with-keras.ipynb#X31sZmlsZQ%3D%3D?line=17'>18</a>\u001b[0m \u001b[39m#dataset = dataset.apply(lambda x: (correct_spelling(x)))\u001b[39;00m\n",
      "File \u001b[1;32mc:\\Users\\sin-yee.teoh\\AppData\\Local\\Programs\\Python\\Python310\\lib\\site-packages\\nltk\\tokenize\\__init__.py:106\u001b[0m, in \u001b[0;36msent_tokenize\u001b[1;34m(text, language)\u001b[0m\n\u001b[0;32m     96\u001b[0m \u001b[39mdef\u001b[39;00m \u001b[39msent_tokenize\u001b[39m(text, language\u001b[39m=\u001b[39m\u001b[39m\"\u001b[39m\u001b[39menglish\u001b[39m\u001b[39m\"\u001b[39m):\n\u001b[0;32m     97\u001b[0m     \u001b[39m\"\"\"\u001b[39;00m\n\u001b[0;32m     98\u001b[0m \u001b[39m    Return a sentence-tokenized copy of *text*,\u001b[39;00m\n\u001b[0;32m     99\u001b[0m \u001b[39m    using NLTK's recommended sentence tokenizer\u001b[39;00m\n\u001b[1;32m   (...)\u001b[0m\n\u001b[0;32m    104\u001b[0m \u001b[39m    :param language: the model name in the Punkt corpus\u001b[39;00m\n\u001b[0;32m    105\u001b[0m \u001b[39m    \"\"\"\u001b[39;00m\n\u001b[1;32m--> 106\u001b[0m     tokenizer \u001b[39m=\u001b[39m load(\u001b[39mf\u001b[39;49m\u001b[39m\"\u001b[39;49m\u001b[39mtokenizers/punkt/\u001b[39;49m\u001b[39m{\u001b[39;49;00mlanguage\u001b[39m}\u001b[39;49;00m\u001b[39m.pickle\u001b[39;49m\u001b[39m\"\u001b[39;49m)\n\u001b[0;32m    107\u001b[0m     \u001b[39mreturn\u001b[39;00m tokenizer\u001b[39m.\u001b[39mtokenize(text)\n",
      "File \u001b[1;32mc:\\Users\\sin-yee.teoh\\AppData\\Local\\Programs\\Python\\Python310\\lib\\site-packages\\nltk\\data.py:750\u001b[0m, in \u001b[0;36mload\u001b[1;34m(resource_url, format, cache, verbose, logic_parser, fstruct_reader, encoding)\u001b[0m\n\u001b[0;32m    747\u001b[0m     \u001b[39mprint\u001b[39m(\u001b[39mf\u001b[39m\u001b[39m\"\u001b[39m\u001b[39m<<Loading \u001b[39m\u001b[39m{\u001b[39;00mresource_url\u001b[39m}\u001b[39;00m\u001b[39m>>\u001b[39m\u001b[39m\"\u001b[39m)\n\u001b[0;32m    749\u001b[0m \u001b[39m# Load the resource.\u001b[39;00m\n\u001b[1;32m--> 750\u001b[0m opened_resource \u001b[39m=\u001b[39m _open(resource_url)\n\u001b[0;32m    752\u001b[0m \u001b[39mif\u001b[39;00m \u001b[39mformat\u001b[39m \u001b[39m==\u001b[39m \u001b[39m\"\u001b[39m\u001b[39mraw\u001b[39m\u001b[39m\"\u001b[39m:\n\u001b[0;32m    753\u001b[0m     resource_val \u001b[39m=\u001b[39m opened_resource\u001b[39m.\u001b[39mread()\n",
      "File \u001b[1;32mc:\\Users\\sin-yee.teoh\\AppData\\Local\\Programs\\Python\\Python310\\lib\\site-packages\\nltk\\data.py:876\u001b[0m, in \u001b[0;36m_open\u001b[1;34m(resource_url)\u001b[0m\n\u001b[0;32m    873\u001b[0m protocol, path_ \u001b[39m=\u001b[39m split_resource_url(resource_url)\n\u001b[0;32m    875\u001b[0m \u001b[39mif\u001b[39;00m protocol \u001b[39mis\u001b[39;00m \u001b[39mNone\u001b[39;00m \u001b[39mor\u001b[39;00m protocol\u001b[39m.\u001b[39mlower() \u001b[39m==\u001b[39m \u001b[39m\"\u001b[39m\u001b[39mnltk\u001b[39m\u001b[39m\"\u001b[39m:\n\u001b[1;32m--> 876\u001b[0m     \u001b[39mreturn\u001b[39;00m find(path_, path \u001b[39m+\u001b[39;49m [\u001b[39m\"\u001b[39;49m\u001b[39m\"\u001b[39;49m])\u001b[39m.\u001b[39mopen()\n\u001b[0;32m    877\u001b[0m \u001b[39melif\u001b[39;00m protocol\u001b[39m.\u001b[39mlower() \u001b[39m==\u001b[39m \u001b[39m\"\u001b[39m\u001b[39mfile\u001b[39m\u001b[39m\"\u001b[39m:\n\u001b[0;32m    878\u001b[0m     \u001b[39m# urllib might not use mode='rb', so handle this one ourselves:\u001b[39;00m\n\u001b[0;32m    879\u001b[0m     \u001b[39mreturn\u001b[39;00m find(path_, [\u001b[39m\"\u001b[39m\u001b[39m\"\u001b[39m])\u001b[39m.\u001b[39mopen()\n",
      "File \u001b[1;32mc:\\Users\\sin-yee.teoh\\AppData\\Local\\Programs\\Python\\Python310\\lib\\site-packages\\nltk\\data.py:583\u001b[0m, in \u001b[0;36mfind\u001b[1;34m(resource_name, paths)\u001b[0m\n\u001b[0;32m    581\u001b[0m sep \u001b[39m=\u001b[39m \u001b[39m\"\u001b[39m\u001b[39m*\u001b[39m\u001b[39m\"\u001b[39m \u001b[39m*\u001b[39m \u001b[39m70\u001b[39m\n\u001b[0;32m    582\u001b[0m resource_not_found \u001b[39m=\u001b[39m \u001b[39mf\u001b[39m\u001b[39m\"\u001b[39m\u001b[39m\\n\u001b[39;00m\u001b[39m{\u001b[39;00msep\u001b[39m}\u001b[39;00m\u001b[39m\\n\u001b[39;00m\u001b[39m{\u001b[39;00mmsg\u001b[39m}\u001b[39;00m\u001b[39m\\n\u001b[39;00m\u001b[39m{\u001b[39;00msep\u001b[39m}\u001b[39;00m\u001b[39m\\n\u001b[39;00m\u001b[39m\"\u001b[39m\n\u001b[1;32m--> 583\u001b[0m \u001b[39mraise\u001b[39;00m \u001b[39mLookupError\u001b[39;00m(resource_not_found)\n",
      "\u001b[1;31mLookupError\u001b[0m: \n**********************************************************************\n  Resource \u001b[93mpunkt\u001b[0m not found.\n  Please use the NLTK Downloader to obtain the resource:\n\n  \u001b[31m>>> import nltk\n  >>> nltk.download('punkt')\n  \u001b[0m\n  For more information see: https://www.nltk.org/data.html\n\n  Attempted to load \u001b[93mtokenizers/punkt/english.pickle\u001b[0m\n\n  Searched in:\n    - 'C:\\\\Users\\\\sin-yee.teoh/nltk_data'\n    - 'c:\\\\Users\\\\sin-yee.teoh\\\\AppData\\\\Local\\\\Programs\\\\Python\\\\Python310\\\\nltk_data'\n    - 'c:\\\\Users\\\\sin-yee.teoh\\\\AppData\\\\Local\\\\Programs\\\\Python\\\\Python310\\\\share\\\\nltk_data'\n    - 'c:\\\\Users\\\\sin-yee.teoh\\\\AppData\\\\Local\\\\Programs\\\\Python\\\\Python310\\\\lib\\\\nltk_data'\n    - 'C:\\\\Users\\\\sin-yee.teoh\\\\AppData\\\\Roaming\\\\nltk_data'\n    - 'C:\\\\nltk_data'\n    - 'D:\\\\nltk_data'\n    - 'E:\\\\nltk_data'\n    - ''\n**********************************************************************\n"
     ]
    }
   ],
   "source": [
    "y = pd.get_dummies(dataset['Sentiment']).values\n",
    "    \n",
    "x_train, x_test, y_train, y_test = train_test_split(\n",
    "    dataset.Review,\n",
    "    y,\n",
    "    test_size=0.1,\n",
    "    stratify = y)\n",
    "    \n",
    "x_train = preprocess(x_train)\n",
    "x_test = preprocess(x_test)"
   ]
  },
  {
   "cell_type": "markdown",
   "id": "c22d22f3",
   "metadata": {
    "papermill": {
     "duration": 0.018758,
     "end_time": "2021-11-09T06:25:40.887564",
     "exception": false,
     "start_time": "2021-11-09T06:25:40.868806",
     "status": "completed"
    },
    "tags": []
   },
   "source": [
    "Build a both models using keras."
   ]
  },
  {
   "cell_type": "code",
   "execution_count": 13,
   "id": "5f74cbca",
   "metadata": {
    "execution": {
     "iopub.execute_input": "2021-11-09T06:25:40.929995Z",
     "iopub.status.busy": "2021-11-09T06:25:40.929332Z",
     "iopub.status.idle": "2021-11-09T06:25:41.672748Z",
     "shell.execute_reply": "2021-11-09T06:25:41.672014Z",
     "shell.execute_reply.started": "2021-11-08T20:53:16.185290Z"
    },
    "papermill": {
     "duration": 0.76561,
     "end_time": "2021-11-09T06:25:41.672904",
     "exception": false,
     "start_time": "2021-11-09T06:25:40.907294",
     "status": "completed"
    },
    "tags": []
   },
   "outputs": [
    {
     "name": "stderr",
     "output_type": "stream",
     "text": [
      "\n",
      "User settings:\n",
      "\n",
      "   KMP_AFFINITY=granularity=fine,verbose,compact,1,0\n",
      "   KMP_BLOCKTIME=0\n",
      "   KMP_DUPLICATE_LIB_OK=True\n",
      "   KMP_INIT_AT_FORK=FALSE\n",
      "   KMP_SETTINGS=1\n",
      "   KMP_WARNINGS=0\n",
      "\n",
      "Effective settings:\n",
      "\n",
      "   KMP_ABORT_DELAY=0\n",
      "   KMP_ADAPTIVE_LOCK_PROPS='1,1024'\n",
      "   KMP_ALIGN_ALLOC=64\n",
      "   KMP_ALL_THREADPRIVATE=128\n",
      "   KMP_ATOMIC_MODE=2\n",
      "   KMP_BLOCKTIME=0\n",
      "   KMP_CPUINFO_FILE: value is not defined\n",
      "   KMP_DETERMINISTIC_REDUCTION=false\n",
      "   KMP_DEVICE_THREAD_LIMIT=2147483647\n",
      "   KMP_DISP_NUM_BUFFERS=7\n",
      "   KMP_DUPLICATE_LIB_OK=true\n",
      "   KMP_ENABLE_TASK_THROTTLING=true\n",
      "   KMP_FORCE_REDUCTION: value is not defined\n",
      "   KMP_FOREIGN_THREADS_THREADPRIVATE=true\n",
      "   KMP_FORKJOIN_BARRIER='2,2'\n",
      "   KMP_FORKJOIN_BARRIER_PATTERN='hyper,hyper'\n",
      "   KMP_GTID_MODE=3\n",
      "   KMP_HANDLE_SIGNALS=false\n",
      "   KMP_HOT_TEAMS_MAX_LEVEL=1\n",
      "   KMP_HOT_TEAMS_MODE=0\n",
      "   KMP_INIT_AT_FORK=true\n",
      "   KMP_LIBRARY=throughput\n",
      "   KMP_LOCK_KIND=queuing\n",
      "   KMP_MALLOC_POOL_INCR=1M\n",
      "   KMP_NUM_LOCKS_IN_BLOCK=1\n",
      "   KMP_PLAIN_BARRIER='2,2'\n",
      "   KMP_PLAIN_BARRIER_PATTERN='hyper,hyper'\n",
      "   KMP_REDUCTION_BARRIER='1,1'\n",
      "   KMP_REDUCTION_BARRIER_PATTERN='hyper,hyper'\n",
      "   KMP_SCHEDULE='static,balanced;guided,iterative'\n",
      "   KMP_SETTINGS=true\n",
      "   KMP_SPIN_BACKOFF_PARAMS='4096,100'\n",
      "   KMP_STACKOFFSET=64\n",
      "   KMP_STACKPAD=0\n",
      "   KMP_STACKSIZE=8M\n",
      "   KMP_STORAGE_MAP=false\n",
      "   KMP_TASKING=2\n",
      "   KMP_TASKLOOP_MIN_TASKS=0\n",
      "   KMP_TASK_STEALING_CONSTRAINT=1\n",
      "   KMP_TEAMS_THREAD_LIMIT=4\n",
      "   KMP_TOPOLOGY_METHOD=all\n",
      "   KMP_USE_YIELD=1\n",
      "   KMP_VERSION=false\n",
      "   KMP_WARNINGS=false\n",
      "   OMP_AFFINITY_FORMAT='OMP: pid %P tid %i thread %n bound to OS proc set {%A}'\n",
      "   OMP_ALLOCATOR=omp_default_mem_alloc\n",
      "   OMP_CANCELLATION=false\n",
      "   OMP_DEFAULT_DEVICE=0\n",
      "   OMP_DISPLAY_AFFINITY=false\n",
      "   OMP_DISPLAY_ENV=false\n",
      "   OMP_DYNAMIC=false\n",
      "   OMP_MAX_ACTIVE_LEVELS=1\n",
      "   OMP_MAX_TASK_PRIORITY=0\n",
      "   OMP_NESTED: deprecated; max-active-levels-var=1\n",
      "   OMP_NUM_THREADS: value is not defined\n",
      "   OMP_PLACES: value is not defined\n",
      "   OMP_PROC_BIND='intel'\n",
      "   OMP_SCHEDULE='static'\n",
      "   OMP_STACKSIZE=8M\n",
      "   OMP_TARGET_OFFLOAD=DEFAULT\n",
      "   OMP_THREAD_LIMIT=2147483647\n",
      "   OMP_WAIT_POLICY=PASSIVE\n",
      "   KMP_AFFINITY='verbose,warnings,respect,granularity=fine,compact,1,0'\n",
      "\n",
      "2021-11-09 06:25:40.970196: I tensorflow/core/common_runtime/process_util.cc:146] Creating new thread pool with default inter op setting: 2. Tune using inter_op_parallelism_threads for best performance.\n"
     ]
    }
   ],
   "source": [
    "BID_model = build_BID_LSTM()\n",
    "RNN_model = build_RNN()"
   ]
  },
  {
   "cell_type": "markdown",
   "id": "abdd9b2d",
   "metadata": {
    "papermill": {
     "duration": 0.019159,
     "end_time": "2021-11-09T06:25:41.711833",
     "exception": false,
     "start_time": "2021-11-09T06:25:41.692674",
     "status": "completed"
    },
    "tags": []
   },
   "source": [
    "Train models, validate with test set."
   ]
  },
  {
   "cell_type": "code",
   "execution_count": 14,
   "id": "341dee73",
   "metadata": {
    "execution": {
     "iopub.execute_input": "2021-11-09T06:25:41.757274Z",
     "iopub.status.busy": "2021-11-09T06:25:41.756269Z",
     "iopub.status.idle": "2021-11-09T07:23:01.110009Z",
     "shell.execute_reply": "2021-11-09T07:23:01.107932Z",
     "shell.execute_reply.started": "2021-11-08T20:53:16.942554Z"
    },
    "papermill": {
     "duration": 3439.378356,
     "end_time": "2021-11-09T07:23:01.110181",
     "exception": false,
     "start_time": "2021-11-09T06:25:41.731825",
     "status": "completed"
    },
    "tags": []
   },
   "outputs": [
    {
     "name": "stderr",
     "output_type": "stream",
     "text": [
      "2021-11-09 06:25:41.836734: I tensorflow/compiler/mlir/mlir_graph_optimization_pass.cc:185] None of the MLIR Optimization Passes are enabled (registered 2)\n"
     ]
    },
    {
     "name": "stdout",
     "output_type": "stream",
     "text": [
      "Epoch 1/10\n",
      "3455/3455 [==============================] - 335s 96ms/step - loss: 0.2569 - accuracy: 0.9235 - val_loss: 0.2449 - val_accuracy: 0.9280\n",
      "Epoch 2/10\n",
      "3455/3455 [==============================] - 332s 96ms/step - loss: 0.2460 - accuracy: 0.9277 - val_loss: 0.2439 - val_accuracy: 0.9280\n",
      "Epoch 3/10\n",
      "3455/3455 [==============================] - 337s 97ms/step - loss: 0.2442 - accuracy: 0.9277 - val_loss: 0.2440 - val_accuracy: 0.9277\n",
      "Epoch 4/10\n",
      "3455/3455 [==============================] - 336s 97ms/step - loss: 0.2436 - accuracy: 0.9280 - val_loss: 0.2445 - val_accuracy: 0.9277\n",
      "Epoch 5/10\n",
      "3455/3455 [==============================] - 341s 99ms/step - loss: 0.2431 - accuracy: 0.9279 - val_loss: 0.2460 - val_accuracy: 0.9244\n",
      "Epoch 6/10\n",
      "3455/3455 [==============================] - 341s 99ms/step - loss: 0.2427 - accuracy: 0.9280 - val_loss: 0.2465 - val_accuracy: 0.9243\n",
      "Epoch 7/10\n",
      "3455/3455 [==============================] - 347s 100ms/step - loss: 0.2424 - accuracy: 0.9281 - val_loss: 0.2469 - val_accuracy: 0.9244\n",
      "Epoch 8/10\n",
      "3455/3455 [==============================] - 357s 103ms/step - loss: 0.2418 - accuracy: 0.9282 - val_loss: 0.2472 - val_accuracy: 0.9243\n",
      "Epoch 9/10\n",
      "3455/3455 [==============================] - 360s 104ms/step - loss: 0.2416 - accuracy: 0.9283 - val_loss: 0.2488 - val_accuracy: 0.9245\n",
      "Epoch 10/10\n",
      "3455/3455 [==============================] - 354s 103ms/step - loss: 0.2415 - accuracy: 0.9283 - val_loss: 0.2501 - val_accuracy: 0.9240\n"
     ]
    }
   ],
   "source": [
    "history_BID = BID_model.fit(x_train, y_train, epochs=10, batch_size=32, validation_data=(x_test, y_test))"
   ]
  },
  {
   "cell_type": "code",
   "execution_count": 15,
   "id": "fee4f4b6",
   "metadata": {
    "execution": {
     "iopub.execute_input": "2021-11-09T07:23:17.658675Z",
     "iopub.status.busy": "2021-11-09T07:23:17.657936Z",
     "iopub.status.idle": "2021-11-09T07:46:22.490800Z",
     "shell.execute_reply": "2021-11-09T07:46:22.492250Z",
     "shell.execute_reply.started": "2021-11-08T21:42:31.931930Z"
    },
    "papermill": {
     "duration": 1393.086925,
     "end_time": "2021-11-09T07:46:22.492565",
     "exception": false,
     "start_time": "2021-11-09T07:23:09.405640",
     "status": "completed"
    },
    "tags": []
   },
   "outputs": [
    {
     "name": "stdout",
     "output_type": "stream",
     "text": [
      "Epoch 1/10\n",
      "3455/3455 [==============================] - 142s 40ms/step - loss: 0.2579 - accuracy: 0.9250 - val_loss: 0.2475 - val_accuracy: 0.9271\n",
      "Epoch 2/10\n",
      "3455/3455 [==============================] - 139s 40ms/step - loss: 0.2489 - accuracy: 0.9274 - val_loss: 0.2442 - val_accuracy: 0.9280\n",
      "Epoch 3/10\n",
      "3455/3455 [==============================] - 144s 42ms/step - loss: 0.2465 - accuracy: 0.9278 - val_loss: 0.2447 - val_accuracy: 0.9279\n",
      "Epoch 4/10\n",
      "3455/3455 [==============================] - 141s 41ms/step - loss: 0.2456 - accuracy: 0.9279 - val_loss: 0.2464 - val_accuracy: 0.9271\n",
      "Epoch 5/10\n",
      "3455/3455 [==============================] - 140s 41ms/step - loss: 0.2454 - accuracy: 0.9279 - val_loss: 0.2463 - val_accuracy: 0.9267\n",
      "Epoch 6/10\n",
      "3455/3455 [==============================] - 140s 41ms/step - loss: 0.2456 - accuracy: 0.9280 - val_loss: 0.2495 - val_accuracy: 0.9250\n",
      "Epoch 7/10\n",
      "3455/3455 [==============================] - 135s 39ms/step - loss: 0.2446 - accuracy: 0.9280 - val_loss: 0.2480 - val_accuracy: 0.9249\n",
      "Epoch 8/10\n",
      "3455/3455 [==============================] - 136s 39ms/step - loss: 0.2445 - accuracy: 0.9281 - val_loss: 0.2501 - val_accuracy: 0.9246\n",
      "Epoch 9/10\n",
      "3455/3455 [==============================] - 133s 39ms/step - loss: 0.2444 - accuracy: 0.9281 - val_loss: 0.2493 - val_accuracy: 0.9248\n",
      "Epoch 10/10\n",
      "3455/3455 [==============================] - 134s 39ms/step - loss: 0.2454 - accuracy: 0.9281 - val_loss: 0.2517 - val_accuracy: 0.9245\n"
     ]
    }
   ],
   "source": [
    "history_RNN = RNN_model.fit(x_train, y_train, epochs=10, batch_size=32, validation_data=(x_test, y_test))"
   ]
  },
  {
   "cell_type": "markdown",
   "id": "24738d1c",
   "metadata": {
    "papermill": {
     "duration": 12.482351,
     "end_time": "2021-11-09T07:46:47.461817",
     "exception": false,
     "start_time": "2021-11-09T07:46:34.979466",
     "status": "completed"
    },
    "tags": []
   },
   "source": [
    "Plot loss and accuracy for both models."
   ]
  },
  {
   "cell_type": "code",
   "execution_count": 16,
   "id": "76bc91da",
   "metadata": {
    "execution": {
     "iopub.execute_input": "2021-11-09T07:47:12.563242Z",
     "iopub.status.busy": "2021-11-09T07:47:12.562219Z",
     "iopub.status.idle": "2021-11-09T07:47:13.032900Z",
     "shell.execute_reply": "2021-11-09T07:47:13.033360Z",
     "shell.execute_reply.started": "2021-11-08T22:01:47.326067Z"
    },
    "papermill": {
     "duration": 12.970605,
     "end_time": "2021-11-09T07:47:13.033560",
     "exception": false,
     "start_time": "2021-11-09T07:47:00.062955",
     "status": "completed"
    },
    "tags": []
   },
   "outputs": [
    {
     "data": {
      "image/png": "[encoded data removed]",
      "text/plain": [
       "<Figure size 1440x432 with 2 Axes>"
      ]
     },
     "metadata": {
      "needs_background": "light"
     },
     "output_type": "display_data"
    }
   ],
   "source": [
    "history = [history_BID,history_RNN]\n",
    "plot_result_comparison_2_models(history)"
   ]
  },
  {
   "cell_type": "markdown",
   "id": "d465f65a",
   "metadata": {
    "papermill": {
     "duration": 12.274208,
     "end_time": "2021-11-09T07:47:37.799702",
     "exception": false,
     "start_time": "2021-11-09T07:47:25.525494",
     "status": "completed"
    },
    "tags": []
   },
   "source": [
    "Test models on new input."
   ]
  },
  {
   "cell_type": "code",
   "execution_count": 17,
   "id": "daa0028d",
   "metadata": {
    "execution": {
     "iopub.execute_input": "2021-11-09T07:48:02.394071Z",
     "iopub.status.busy": "2021-11-09T07:48:02.393099Z",
     "iopub.status.idle": "2021-11-09T07:48:03.438055Z",
     "shell.execute_reply": "2021-11-09T07:48:03.438697Z",
     "shell.execute_reply.started": "2021-11-08T22:01:47.805289Z"
    },
    "papermill": {
     "duration": 13.33316,
     "end_time": "2021-11-09T07:48:03.438881",
     "exception": false,
     "start_time": "2021-11-09T07:47:50.105721",
     "status": "completed"
    },
    "tags": []
   },
   "outputs": [
    {
     "name": "stdout",
     "output_type": "stream",
     "text": [
      "Test review: Our room was excellent! The view was superb, we had a fantastic time.\n",
      "Sentiment analyzed by bidirectional LSTM: Positive\n",
      "Sentiment analyzed by RNN: Positive\n"
     ]
    }
   ],
   "source": [
    "x = pd.Series(['Our room was excellent! The view was superb, we had a fantastic time.'])\n",
    "sentiment = ['Negative','Positive']\n",
    "\n",
    "test = preprocess(x)\n",
    "result_BID = sentiment[np.around(BID_model.predict(test), decimals=0).argmax(axis=1)[0]]\n",
    "result_RNN = sentiment[np.around(RNN_model.predict(test), decimals=0).argmax(axis=1)[0]]\n",
    "\n",
    "print(f'Test review: {x[0]}')\n",
    "print(f'Sentiment analyzed by bidirectional LSTM: {result_BID}')\n",
    "print(f'Sentiment analyzed by RNN: {result_RNN}')"
   ]
  },
  {
   "cell_type": "markdown",
   "id": "ef6afd1c",
   "metadata": {
    "papermill": {
     "duration": 12.253045,
     "end_time": "2021-11-09T07:48:28.175591",
     "exception": false,
     "start_time": "2021-11-09T07:48:15.922546",
     "status": "completed"
    },
    "tags": []
   },
   "source": [
    "It seems that under the above circumstances (same set of hyperparameters and inputs), both models are very accurate, but the RNN is slightly faster in running time."
   ]
  }
 ],
 "metadata": {
  "kernelspec": {
   "display_name": "Python 3.10.3 64-bit",
   "language": "python",
   "name": "python3"
  },
  "language_info": {
   "codemirror_mode": {
    "name": "ipython",
    "version": 3
   },
   "file_extension": ".py",
   "mimetype": "text/x-python",
   "name": "python",
   "nbconvert_exporter": "python",
   "pygments_lexer": "ipython3",
   "version": "3.10.3"
  },
  "papermill": {
   "default_parameters": {},
   "duration": 5382.713737,
   "end_time": "2021-11-09T07:48:43.677669",
   "environment_variables": {},
   "exception": null,
   "input_path": "__notebook__.ipynb",
   "output_path": "__notebook__.ipynb",
   "parameters": {},
   "start_time": "2021-11-09T06:19:00.963932",
   "version": "2.3.3"
  },
  "vscode": {
   "interpreter": {
    "hash": "6df761b4066193265fabac3b3f06fc34705548320002f02836cd9baf3fb5a8e0"
   }
  }
 },
 "nbformat": 4,
 "nbformat_minor": 5
}
